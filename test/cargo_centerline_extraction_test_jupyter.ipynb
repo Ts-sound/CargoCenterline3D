{
 "cells": [
  {
   "cell_type": "code",
   "execution_count": null,
   "metadata": {},
   "outputs": [],
   "source": [
    "%matplotlib inline\n",
    "\n",
    "from matplotlib import pyplot as plt\n",
    "import numpy as np\n",
    "from cargo_centerline_extraction_test import load_point_cloud\n",
    "from cargo_centerline_extraction_test import ws_path\n",
    "from pathlib import Path\n",
    "import os\n",
    "\n",
    "points = load_point_cloud(ws_path + \"/data/cargo_box.pcd\")\n"
   ]
  },
  {
   "cell_type": "markdown",
   "metadata": {},
   "source": [
    "## detect_plane_open3d"
   ]
  },
  {
   "cell_type": "code",
   "execution_count": null,
   "metadata": {},
   "outputs": [],
   "source": [
    "import site\n",
    "site.addsitedir(ws_path+'/src')\n",
    "\n",
    "from cargo_centerline_extraction import detect_plane_open3d\n",
    "\n",
    "plane_equation, inlier_indices = detect_plane_open3d(points=points)"
   ]
  },
  {
   "cell_type": "markdown",
   "metadata": {},
   "source": [
    "## project_points_to_plane"
   ]
  },
  {
   "cell_type": "code",
   "execution_count": null,
   "metadata": {},
   "outputs": [],
   "source": [
    "\n",
    "from cargo_centerline_extraction import project_points_to_plane\n",
    "\n",
    "project_points = project_points_to_plane(points=points,plane_equation=plane_equation)"
   ]
  },
  {
   "cell_type": "markdown",
   "metadata": {},
   "source": [
    "## compute_centerline"
   ]
  },
  {
   "cell_type": "code",
   "execution_count": null,
   "metadata": {},
   "outputs": [],
   "source": [
    "from cargo_centerline_extraction import compute_centerline\n",
    "\n",
    "centerline, left_points, right_points = compute_centerline(projected_points=project_points)"
   ]
  },
  {
   "cell_type": "markdown",
   "metadata": {},
   "source": [
    "## 创建 plt"
   ]
  },
  {
   "cell_type": "code",
   "execution_count": null,
   "metadata": {},
   "outputs": [],
   "source": [
    "import matplotlib.gridspec as gridspec\n",
    "from cargo_centerline_extraction_test import plot_point_cloud\n",
    "\n",
    "fig = plt.figure(figsize=(14, 12))\n",
    "gs = gridspec.GridSpec(2, 2, width_ratios=[1, 1], height_ratios=[1, 1])\n",
    "\n",
    "# 创建四个3D子图\n",
    "ax1 = fig.add_subplot(gs[0, 0], projection=\"3d\")\n",
    "ax2 = fig.add_subplot(gs[0, 1], projection=\"3d\")\n",
    "ax3 = fig.add_subplot(gs[1, 0], projection=\"3d\")\n",
    "ax4 = fig.add_subplot(gs[1, 1], projection=\"3d\")\n",
    "\n",
    "### ax1: Raw Point Cloud\n",
    "scatter1 = plot_point_cloud(ax1, points, \"Raw Point Cloud\", \"viridis\")\n",
    "\n",
    "# Add main title\n",
    "fig.suptitle(\"Point Cloud Processing Results (2x2 Layout)\", fontsize=16, y=0.95)\n",
    "# 添加统一的颜色条\n",
    "cbar_ax = fig.add_axes([0.92, 0.15, 0.02, 0.7])  # [left, bottom, width, height]\n",
    "cbar = fig.colorbar(scatter1, cax=cbar_ax)\n",
    "cbar.set_label(\"Z value\", fontsize=12)\n",
    "\n",
    "### ax2: Plane Detection Results\n",
    "# Plot plane detection results\n",
    "if inlier_indices is not None:\n",
    "    # Create color array: red for inliers, blue for outliers\n",
    "    colors = np.zeros((len(points), 3))  # RGB array\n",
    "    colors[inlier_indices] = [1, 0, 0]  # Red for inliers\n",
    "    colors[~np.isin(np.arange(len(points)), inlier_indices)] = [0, 0, 1]  # Blue for outliers\n",
    "\n",
    "    # Plot with color-coded inliers/outliers\n",
    "    scatter2 = plot_point_cloud(ax2, points, \"Plane Detection (RANSAC)\", colors=colors)\n",
    "    print(f\"Detected plane equation: {plane_equation[0]:.4f}x + {plane_equation[1]:.4f}y + \" f\"{plane_equation[2]:.4f}z + {plane_equation[3]:.4f} = 0\")\n",
    "\n",
    "    # Add plane equation to title\n",
    "    if plane_equation is not None:\n",
    "        a, b, c, d = plane_equation\n",
    "        ax2.set_title(f\"Plane Detection (RANSAC)\\nPlane: {a:.2f}x + {b:.2f}y + {c:.2f}z + {d:.2f} = 0\", fontsize=10)\n",
    "else:\n",
    "    # Fallback if plane detection failed\n",
    "    scatter2 = plot_point_cloud(ax2, points, \"Plane Detection Failed\", \"viridis\")\n",
    "\n",
    "if inlier_indices is not None:\n",
    "    from matplotlib.lines import Line2D\n",
    "\n",
    "    legend_elements = [\n",
    "        Line2D([0], [0], marker=\"o\", color=\"w\", label=\"Inliers (Plane)\", markerfacecolor=\"red\", markersize=10),\n",
    "        Line2D([0], [0], marker=\"o\", color=\"w\", label=\"Outliers\", markerfacecolor=\"blue\", markersize=10),\n",
    "    ]\n",
    "    ax2.legend(handles=legend_elements, loc=\"upper right\", fontsize=9)\n",
    "\n",
    "\n",
    "### ax3: Projected Points onto Detected Plane\n",
    "scatter3 = plot_point_cloud(ax3, project_points, \"Projected Points onto Detected Plane\", \"viridis\")\n",
    "\n",
    "### ax4: Centerline Extraction Results\n",
    "scatter4 = plot_point_cloud(ax4, project_points, \"Centerline Extraction\", \"viridis\")\n",
    "# Overlay centerline\n",
    "ax4.plot(centerline[:, 0], centerline[:, 1], centerline[:, 2], color=\"red\", linewidth=3, label=\"Centerline\")\n",
    "ax4.scatter(left_points[:, 0], left_points[:, 1], left_points[:, 2], color=\"green\", s=10, label=\"Left Side Points\")\n",
    "ax4.scatter(right_points[:, 0], right_points[:, 1], right_points[:, 2], color=\"blue\", s=10, label=\"Right Side Points\")\n",
    "ax4.legend(loc=\"upper right\", fontsize=9)\n",
    "\n",
    "\n",
    "# plt.show()\n"
   ]
  },
  {
   "cell_type": "markdown",
   "metadata": {},
   "source": [
    "## end"
   ]
  }
 ],
 "metadata": {
  "kernelspec": {
   "display_name": "cargo3d",
   "language": "python",
   "name": "python3"
  },
  "language_info": {
   "codemirror_mode": {
    "name": "ipython",
    "version": 3
   },
   "file_extension": ".py",
   "mimetype": "text/x-python",
   "name": "python",
   "nbconvert_exporter": "python",
   "pygments_lexer": "ipython3",
   "version": "3.10.19"
  }
 },
 "nbformat": 4,
 "nbformat_minor": 2
}
